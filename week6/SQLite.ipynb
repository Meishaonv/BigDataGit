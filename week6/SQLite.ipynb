{
 "cells": [
  {
   "cell_type": "markdown",
   "metadata": {},
   "source": [
    "# SQLite\n",
    "### Exercise 1"
   ]
  },
  {
   "cell_type": "code",
   "execution_count": 10,
   "metadata": {
    "collapsed": false
   },
   "outputs": [
    {
     "name": "stdout",
     "output_type": "stream",
     "text": [
      "('Aniseed Syrup', 3)\n",
      "(\"Grandma's Boysenberry Spread\", 6)\n",
      "('R\\xf6ssle Sauerkraut', 28)\n",
      "('Chartreuse verte', 39)\n",
      "('Spegesild', 46)\n",
      "('Escargots de Bourgogne', 58)\n",
      "('Raclette Courdavault', 59)\n",
      "('Vegie-spread', 63)\n",
      "('Flotemysost', 71)\n",
      "('Lakkalik\\xf6\\xf6ri', 76)\n",
      "('Original Frankfurter gr\\xfcne So\\xdfe', 77)\n",
      "11\n"
     ]
    }
   ],
   "source": [
    "import sqlite3 as sql\n",
    "import sys\n",
    "\n",
    "conn = sql.connect('northwind.db') # connect obj\n",
    "conn.text_factory = str\n",
    "cur = conn.cursor()  # cursor obj\n",
    "\n",
    "cur.execute(\"SELECT ProductName, ProductID FROM 'Products' WHERE ProductID IN( \\\n",
    "                 SELECT ProductID FROM 'Order Details' WHERE OrderID IN( \\\n",
    "                SELECT OrderID FROM 'Orders' WHERE CustomerID = 'ALFKI'))\")\n",
    "temp_prdn = cur.fetchall()\n",
    "for row in temp_prdn:\n",
    "    print row\n",
    "print len(temp_prdn)\n",
    "conn.close()"
   ]
  },
  {
   "cell_type": "markdown",
   "metadata": {},
   "source": [
    "### Exercise 2"
   ]
  },
  {
   "cell_type": "code",
   "execution_count": 12,
   "metadata": {
    "collapsed": false
   },
   "outputs": [
    {
     "name": "stdout",
     "output_type": "stream",
     "text": [
      "('Aniseed Syrup', 3)\n",
      "(\"Grandma's Boysenberry Spread\", 6)\n",
      "('R\\xf6ssle Sauerkraut', 28)\n",
      "('Chartreuse verte', 39)\n",
      "('Spegesild', 46)\n",
      "('Escargots de Bourgogne', 58)\n",
      "('Raclette Courdavault', 59)\n",
      "('Flotemysost', 71)\n",
      "('Lakkalik\\xf6\\xf6ri', 76)\n",
      "('Original Frankfurter gr\\xfcne So\\xdfe', 77)\n"
     ]
    }
   ],
   "source": [
    "import sqlite3\n",
    "conn = sqlite3.connect('northwind.db')\n",
    "conn.text_factory = str\n",
    "c = conn.cursor()\n",
    "\n",
    "for row in c.execute(\"SELECT productName,productID FROM products WHERE productId IN (\\\n",
    "                      SELECT productID FROM 'Order Details' WHERE orderId IN (\\\n",
    "                      SELECT orderId FROM 'Order Details' WHERE orderId IN (\\\n",
    "                      SELECT orderId FROM Orders WHERE customerID = 'ALFKI') GROUP BY OrderId HAVING COUNT(DISTINCT productID) > 1))\"):\n",
    "    print row\n",
    "    \n",
    "c.close()\n",
    "                    "
   ]
  },
  {
   "cell_type": "markdown",
   "metadata": {},
   "source": [
    "### Exercise 3"
   ]
  },
  {
   "cell_type": "code",
   "execution_count": 2,
   "metadata": {
    "collapsed": false,
    "scrolled": true
   },
   "outputs": [
    {
     "name": "stdout",
     "output_type": "stream",
     "text": [
      "(21.5, 71, 'Flotemysost')\n",
      "(25, 6, \"Grandma's Boysenberry Spread\")\n",
      "(43.9, 63, 'Vegie-spread')\n",
      "(45.6, 28, 'R\\xf6ssle Sauerkraut')\n"
     ]
    }
   ],
   "source": [
    "import sqlite3\n",
    "conn = sqlite3.connect('northwind.db')\n",
    "conn.text_factory = str\n",
    "c = conn.cursor()\n",
    "\n",
    "for row in c.execute(\"SELECT UnitPrice, productID,productName FROM products WHERE productId IN (\\\n",
    "                      SELECT productID FROM 'Order Details' WHERE orderId IN (\\\n",
    "                      SELECT orderId FROM 'Order Details' WHERE orderId IN (\\\n",
    "                      SELECT OrderId FROM Orders WHERE customerID = 'ALFKI'))) \\\n",
    "                      AND UnitPrice BETWEEN 20 AND 50 ORDER BY UnitPrice\"):\n",
    "    print row\n",
    "    \n",
    "c.close()\n",
    "                    "
   ]
  }
 ],
 "metadata": {
  "anaconda-cloud": {},
  "kernelspec": {
   "display_name": "Python [Root]",
   "language": "python",
   "name": "Python [Root]"
  },
  "language_info": {
   "codemirror_mode": {
    "name": "ipython",
    "version": 2
   },
   "file_extension": ".py",
   "mimetype": "text/x-python",
   "name": "python",
   "nbconvert_exporter": "python",
   "pygments_lexer": "ipython2",
   "version": "2.7.12"
  }
 },
 "nbformat": 4,
 "nbformat_minor": 0
}
