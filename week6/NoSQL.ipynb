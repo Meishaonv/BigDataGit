{
 "cells": [
  {
   "cell_type": "code",
   "execution_count": 6,
   "metadata": {
    "collapsed": true
   },
   "outputs": [],
   "source": [
    "import pymongo\n",
    "import pprint\n",
    "from pymongo import MongoClient"
   ]
  },
  {
   "cell_type": "markdown",
   "metadata": {},
   "source": [
    "Pre-step"
   ]
  },
  {
   "cell_type": "code",
   "execution_count": 7,
   "metadata": {
    "collapsed": true
   },
   "outputs": [
    {
     "data": {
      "text/plain": [
       "[u'suppliers',\n",
       " u'territories',\n",
       " u'regions',\n",
       " u'northwind',\n",
       " u'categories',\n",
       " u'products',\n",
       " u'employee-territories',\n",
       " u'orders',\n",
       " u'customers',\n",
       " u'shippers',\n",
       " u'order-details']"
      ]
     },
     "execution_count": 7,
     "metadata": {},
     "output_type": "execute_result"
    }
   ],
   "source": [
    "\n",
    "\n",
    "client = MongoClient('localhost', 27017)\n",
    "db = client.Northwind # Get the database\n",
    "customer = db['customers'] # Get the collection\n",
    "orders = db['orders']\n",
    "orderdetails = db['order-details'] \n",
    "products = db['products'] \n",
    "regions=db['regions']\n",
    "db.collection_names()\n"
   ]
  },
  {
   "cell_type": "markdown",
   "metadata": {},
   "source": [
    "Exercise 1"
   ]
  },
  {
   "cell_type": "code",
   "execution_count": 9,
   "metadata": {},
   "outputs": [
    {
     "name": "stdout",
     "output_type": "stream",
     "text": [
      "Order ID : [10643, 10692, 10702, 10835, 10952, 11011]\n",
      "++++++++++++++++++++++++++++++++++++++++++++++++\n",
      "Rössle Sauerkraut Product ID: 28\n",
      "Chartreuse verte Product ID: 39\n",
      "Spegesild Product ID: 46\n",
      "Vegie-spread Product ID: 63\n",
      "Aniseed Syrup Product ID: 3\n",
      "Lakkalikööri Product ID: 76\n",
      "Raclette Courdavault Product ID: 59\n",
      "Original Frankfurter grüne Soße Product ID: 77\n",
      "Grandma's Boysenberry Spread Product ID: 6\n",
      "Rössle Sauerkraut Product ID: 28\n",
      "Escargots de Bourgogne Product ID: 58\n",
      "Flotemysost Product ID: 71\n"
     ]
    }
   ],
   "source": [
    "\n",
    "# initial order list\n",
    "orderIDl = []\n",
    "#initial the productID list()\n",
    "prol = [] \n",
    "\n",
    "#forloops 1 : in order to get the OrderID which corresponding to the given CustomerID\n",
    "for o in db.orders.find({'CustomerID': 'ALFKI'}).distinct('OrderID'):\n",
    "    orderIDl.append(o)\n",
    "print 'Order ID :',orderIDl\n",
    "\n",
    "#forloops 2: in order to get the productID by using iterated orderID.\n",
    "for i in range(len(orderIDl)):\n",
    "    #print orderl[i]\n",
    "    for productID in orderdetails.find({'OrderID': orderIDl[i]}).distinct('ProductID'):\n",
    "        prol.append(productID)\n",
    "        \n",
    "#for loop 3: in order to get the Product name by using iterated ProductID.\n",
    "for j in range(len(prol)):\n",
    "        #print products.find({'ProductID': prol[p]}).distinct('ProductID')\n",
    "    for product in products.find({'ProductID': prol[j]}).distinct('ProductName'):\n",
    "        print product,'Product ID:',prol[j]\n",
    "\n"
   ]
  },
  {
   "cell_type": "markdown",
   "metadata": {
    "collapsed": true
   },
   "source": [
    "Exercise 2"
   ]
  },
  {
   "cell_type": "code",
   "execution_count": 16,
   "metadata": {
    "collapsed": true
   },
   "outputs": [
    {
     "name": "stdout",
     "output_type": "stream",
     "text": [
      "[{u'CustomerID': u'ALFKI',\n",
      "  u'NumberOfOrders': 3,\n",
      "  u'OrderID': 10643,\n",
      "  u'ProductID': [28, 39, 46]},\n",
      " {u'CustomerID': u'ALFKI',\n",
      "  u'NumberOfOrders': 2,\n",
      "  u'OrderID': 10702,\n",
      "  u'ProductID': [3, 76]},\n",
      " {u'CustomerID': u'ALFKI',\n",
      "  u'NumberOfOrders': 2,\n",
      "  u'OrderID': 10835,\n",
      "  u'ProductID': [59, 77]},\n",
      " {u'CustomerID': u'ALFKI',\n",
      "  u'NumberOfOrders': 2,\n",
      "  u'OrderID': 10952,\n",
      "  u'ProductID': [6, 28]},\n",
      " {u'CustomerID': u'ALFKI',\n",
      "  u'NumberOfOrders': 2,\n",
      "  u'OrderID': 11011,\n",
      "  u'ProductID': [58, 71]}]\n"
     ]
    }
   ],
   "source": [
    "\n",
    "\n",
    "orderpipe = [{ \"$match\" : { \"CustomerID\": \"ALFKI\" } }, # $match uses standard MongoDB queries.\n",
    "        \n",
    "             { \"$lookup\" :  { \"from\" : \"order-details\", \n",
    "            \"localField\" : \"OrderID\",\"foreignField\" : \"OrderID\",\"as\" : \"orders_for_customer\"}},\n",
    "            \n",
    "            { \"$lookup\" : {\"from\" : \"products\",\"localField\" : \"orders_for_customer.ProductID\",\n",
    "            \"foreignField\" : \"ProductID\",\"as\" : \"products_for_order\"}}, \n",
    "            \n",
    "            { \"$project\" : {\"CustomerID\" : \"$CustomerID\", \"OrderID\" : \"$OrderID\",\n",
    "            \"ProductID\" : \"$products_for_order.ProductID\",\"NumberOfOrders\" :\n",
    "            {\"$size\" : \"$orders_for_customer\"},\"_id\" : 0}},\n",
    "            \n",
    "            { \"$match\" : { \"NumberOfOrders\" : {\"$gt\" : 1}}}] # NumberofOrders > 1\n",
    "\n",
    "\n",
    "pprint.pprint(list(orders.aggregate(orderpipe)))"
   ]
  },
  {
   "cell_type": "markdown",
   "metadata": {},
   "source": [
    "Exercise 3"
   ]
  },
  {
   "cell_type": "code",
   "execution_count": 17,
   "metadata": {},
   "outputs": [
    {
     "name": "stdout",
     "output_type": "stream",
     "text": [
      "{u'CategoryID': 1,\n",
      " u'Discontinued': 0,\n",
      " u'ProductID': 1,\n",
      " u'ProductName': u'Chai',\n",
      " u'QuantityPerUnit': u'10 boxes x 20 bags',\n",
      " u'ReorderLevel': 10,\n",
      " u'SupplierID': 1,\n",
      " u'UnitPrice': 18.0,\n",
      " u'UnitsInStock': 39,\n",
      " u'UnitsOnOrder': 0,\n",
      " u'_id': ObjectId('59e360517f17b9af0c4d1fc2')}\n",
      "The category ID of first product is:  1\n",
      "The SupplierID is: 1\n",
      "Name of product with productID:1,supplyID:1 are: Chai\n",
      "Name of product with productID:1,supplyID:1 are: Chang\n"
     ]
    }
   ],
   "source": [
    "\n",
    "dicti = db.products.find_one() # Get the first content of product \n",
    "pprint.pprint(dicti) # print pretty to show\n",
    "pID = dicti['CategoryID'] #extract the CategoryID\n",
    "sID = dicti['SupplierID'] #Extract the SupplierID\n",
    "\n",
    "# Print them to check  \n",
    "print \"The category ID of first product is: \",pID\n",
    "print \"The SupplierID is:\",sID\n",
    "\n",
    "#Find the infromation of products with obtained CategoryID and SupplierID\n",
    "pro=products.find({'CategoryID':pID,'SupplierID':sID}).distinct('ProductName') \n",
    "\n",
    "#for loop to print ProductName(s)\n",
    "for pName in pro:\n",
    "    print \"Name of product with productID:1,supplyID:1 are:\",(pName)"
   ]
  },
  {
   "cell_type": "code",
   "execution_count": null,
   "metadata": {
    "collapsed": true
   },
   "outputs": [],
   "source": []
  }
 ],
 "metadata": {
  "kernelspec": {
   "display_name": "Python 2",
   "language": "python",
   "name": "python2"
  },
  "language_info": {
   "codemirror_mode": {
    "name": "ipython",
    "version": 2
   },
   "file_extension": ".py",
   "mimetype": "text/x-python",
   "name": "python",
   "nbconvert_exporter": "python",
   "pygments_lexer": "ipython2",
   "version": "2.7.13"
  }
 },
 "nbformat": 4,
 "nbformat_minor": 2
}
